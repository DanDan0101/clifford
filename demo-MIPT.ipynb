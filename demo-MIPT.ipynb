{
 "cells": [
  {
   "cell_type": "code",
   "execution_count": 20,
   "id": "2d6d342c-ca5c-42dc-9d31-a6819cc4f9e8",
   "metadata": {},
   "outputs": [
    {
     "name": "stdout",
     "output_type": "stream",
     "text": [
      "The autoreload extension is already loaded. To reload it, use:\n",
      "  %reload_ext autoreload\n"
     ]
    }
   ],
   "source": [
    "# will autoupdate any of the packages imported:\n",
    "%load_ext autoreload\n",
    "%autoreload 2\n",
    "%matplotlib inline"
   ]
  },
  {
   "cell_type": "code",
   "execution_count": 21,
   "id": "3d72be68-2d1d-4648-8d12-0b4a123970c9",
   "metadata": {},
   "outputs": [],
   "source": [
    "import sys\n",
    "sys.path.insert(0, '..')\n",
    "import numpy as np\n",
    "import matplotlib.pyplot as plt\n",
    "import pyclifford as pc"
   ]
  },
  {
   "cell_type": "code",
   "execution_count": 3,
   "id": "9f5c590d-0f48-40ae-afcd-6bfb3b19564e",
   "metadata": {},
   "outputs": [],
   "source": [
    "from numba import njit\n",
    "import seaborn as sns\n",
    "sns.set_theme()"
   ]
  },
  {
   "cell_type": "code",
   "execution_count": 3,
   "id": "4e7184cb-8248-4ea5-b4f0-a39a154e5dc5",
   "metadata": {},
   "outputs": [],
   "source": [
    "def one_layer_brick_wall(circ,even=True):\n",
    "    for ii in range(int(circ.N//2)):\n",
    "        if even:\n",
    "            circ.gate(2*ii,2*ii+1)\n",
    "        else:\n",
    "            circ.gate((2*ii+1),(2*ii+2)%circ.N)\n",
    "    return circ"
   ]
  },
  {
   "cell_type": "code",
   "execution_count": 4,
   "id": "f288bc50-165e-4c13-8968-9919412e5491",
   "metadata": {},
   "outputs": [],
   "source": [
    "@njit\n",
    "def generate_measurement_position(N,p):\n",
    "    positions = []\n",
    "    for i in range(N):\n",
    "        if np.random.rand()<p:\n",
    "            positions.append(i)\n",
    "    return positions"
   ]
  },
  {
   "cell_type": "code",
   "execution_count": 5,
   "id": "f0a2c457-4172-4f4e-b405-badced0c7a48",
   "metadata": {},
   "outputs": [],
   "source": [
    "def one_layer_measurement(circ,p):\n",
    "    '''\n",
    "    Input:\n",
    "    p (float): measurement probability\n",
    "    '''\n",
    "    pos = generate_measurement_position(circ.N,p)\n",
    "    circ.measure(*pos)\n",
    "    return circ"
   ]
  },
  {
   "cell_type": "code",
   "execution_count": 6,
   "id": "6ca2cdb6-f21c-4a41-8890-8962c067b107",
   "metadata": {},
   "outputs": [],
   "source": [
    "def create_circuit(N,depth,p):\n",
    "    circ = pc.circuit.Circuit(N)\n",
    "    for i in range(depth):\n",
    "        circ = one_layer_brick_wall(circ,even=True)\n",
    "        circ = one_layer_measurement(circ,p)\n",
    "        circ = one_layer_brick_wall(circ,even=False)\n",
    "        circ = one_layer_measurement(circ,p)\n",
    "    return circ"
   ]
  },
  {
   "cell_type": "code",
   "execution_count": 7,
   "id": "10124563-4177-495f-8985-e327edfa26ff",
   "metadata": {},
   "outputs": [],
   "source": [
    "import time"
   ]
  },
  {
   "cell_type": "code",
   "execution_count": 9,
   "id": "794d8949-f5fc-4a25-8998-6d8baf860580",
   "metadata": {},
   "outputs": [
    {
     "name": "stdout",
     "output_type": "stream",
     "text": [
      "3\n",
      "time:  0.5204460620880127\n"
     ]
    }
   ],
   "source": [
    "ctime = time.time()\n",
    "circ = create_circuit(300,10,0.1)\n",
    "state = pc.zero_state(300)\n",
    "state = circ.forward(state)\n",
    "entropy = state.entropy([i for i in range(150)])\n",
    "print(entropy)\n",
    "print(\"time: \",time.time()-ctime)"
   ]
  },
  {
   "cell_type": "markdown",
   "id": "d2edf5c6-5d6b-4579-9515-fe5390888068",
   "metadata": {},
   "source": [
    "# Average half-system entropy"
   ]
  },
  {
   "cell_type": "markdown",
   "id": "32fef692-b6ec-4063-8288-a4d852eb0870",
   "metadata": {},
   "source": [
    "When $p<p_c=0.16$, the system is in the entropy volume-law phase."
   ]
  },
  {
   "cell_type": "code",
   "execution_count": 19,
   "id": "5917065f-3319-4688-9b6d-10e940bfa903",
   "metadata": {},
   "outputs": [],
   "source": [
    "ps = np.array([0.1,0.13,0.15,0.17,0.2,0.23])"
   ]
  },
  {
   "cell_type": "code",
   "execution_count": 20,
   "id": "9c6f330a-afa1-448c-aa96-2b69165dd7cd",
   "metadata": {},
   "outputs": [
    {
     "name": "stdout",
     "output_type": "stream",
     "text": [
      "measurement prob:  0.1\n",
      "measurement prob:  0.13\n",
      "measurement prob:  0.15\n",
      "measurement prob:  0.17\n",
      "measurement prob:  0.2\n",
      "measurement prob:  0.23\n"
     ]
    }
   ],
   "source": [
    "entropy_mean = np.zeros_like(ps)\n",
    "entropy_std = np.zeros_like(ps)\n",
    "for k in range(ps.shape[0]):\n",
    "    print(\"measurement prob: \",ps[k])\n",
    "    entropy_lst = []\n",
    "    for _ in range(1000):\n",
    "        circ = create_circuit(300,10,ps[k])\n",
    "        state = pc.zero_state(300)\n",
    "        state = circ.forward(state)\n",
    "        entropy = state.entropy([i for i in range(150)])\n",
    "        entropy_lst.append(entropy)\n",
    "    entropy_mean[k] = np.mean(np.array(entropy_lst))\n",
    "    entropy_std[k] = np.std(np.array(entropy_lst))/np.sqrt(1000)"
   ]
  },
  {
   "cell_type": "code",
   "execution_count": 24,
   "id": "a619cdc3-b75f-4e49-aa8f-af0046ae839c",
   "metadata": {},
   "outputs": [
    {
     "data": {
      "text/plain": [
       "Text(0.5, 1.0, '10 layers of brickwall circuit')"
      ]
     },
     "execution_count": 24,
     "metadata": {},
     "output_type": "execute_result"
    },
    {
     "data": {
      "image/png": "[encoded data removed]",
      "text/plain": [
       "<Figure size 432x288 with 1 Axes>"
      ]
     },
     "metadata": {},
     "output_type": "display_data"
    }
   ],
   "source": [
    "plt.errorbar(x = ps,y = entropy_mean,\\\n",
    "             yerr=entropy_std,capsize = 5)\n",
    "plt.xlabel(r'$P$',fontsize = 14)\n",
    "plt.ylabel(\"Half-system entropy\",fontsize = 14)\n",
    "plt.title(\"10 layers of brickwall circuit\",fontsize = 14)"
   ]
  },
  {
   "cell_type": "code",
   "execution_count": null,
   "id": "01c7dff5-475a-4424-acd7-111b078317a3",
   "metadata": {},
   "outputs": [],
   "source": []
  },
  {
   "cell_type": "code",
   "execution_count": null,
   "id": "f0186ab4-0e0f-4771-9ab8-643924116dff",
   "metadata": {},
   "outputs": [],
   "source": []
  },
  {
   "cell_type": "code",
   "execution_count": null,
   "id": "979cf2e3-b64b-4443-a350-e20d691be0d5",
   "metadata": {},
   "outputs": [],
   "source": []
  },
  {
   "cell_type": "code",
   "execution_count": null,
   "id": "2b528ebb-abce-4f59-a10a-bf93114deed0",
   "metadata": {},
   "outputs": [],
   "source": []
  },
  {
   "cell_type": "code",
   "execution_count": null,
   "id": "7bf94cdd-07b2-4cdd-8886-5d6092b69d96",
   "metadata": {},
   "outputs": [],
   "source": []
  },
  {
   "cell_type": "code",
   "execution_count": null,
   "id": "94a752cf-8c3e-43ea-a242-9e4577738732",
   "metadata": {},
   "outputs": [],
   "source": []
  },
  {
   "cell_type": "code",
   "execution_count": null,
   "id": "1d2b4b7f-155f-4e6f-8f2b-cd40a66afe32",
   "metadata": {},
   "outputs": [],
   "source": []
  }
 ],
 "metadata": {
  "kernelspec": {
   "display_name": "Python 3 (ipykernel)",
   "language": "python",
   "name": "python3"
  },
  "language_info": {
   "codemirror_mode": {
    "name": "ipython",
    "version": 3
   },
   "file_extension": ".py",
   "mimetype": "text/x-python",
   "name": "python",
   "nbconvert_exporter": "python",
   "pygments_lexer": "ipython3",
   "version": "3.10.4"
  }
 },
 "nbformat": 4,
 "nbformat_minor": 5
}
