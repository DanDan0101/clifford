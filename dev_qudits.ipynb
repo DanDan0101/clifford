{
 "cells": [
  {
   "cell_type": "code",
   "execution_count": 1,
   "metadata": {},
   "outputs": [],
   "source": [
    "# will autoupdate any of the packages imported:\n",
    "%load_ext autoreload\n",
    "%autoreload 2\n",
    "%matplotlib inline"
   ]
  },
  {
   "cell_type": "code",
   "execution_count": 2,
   "metadata": {},
   "outputs": [
    {
     "name": "stdout",
     "output_type": "stream",
     "text": [
      "Number of CPUs:  128\n",
      "Number of CPUs available:  32\n",
      "Number of CPUs per task: 32\n",
      "Number of CPUs on node: 32\n"
     ]
    }
   ],
   "source": [
    "import numpy as np\n",
    "import pyclifford as pc\n",
    "from numba import njit\n",
    "from tqdm import tqdm\n",
    "from matplotlib import pyplot as plt\n",
    "import seaborn as sns\n",
    "import time\n",
    "from multiprocess import Pool\n",
    "import os\n",
    "print(\"Number of CPUs: \", os.cpu_count())\n",
    "print(\"Number of CPUs available: \", len(os.sched_getaffinity(0)))\n",
    "print(\"Number of CPUs per task:\", int(os.environ['SLURM_CPUS_PER_TASK']))\n",
    "print(\"Number of CPUs on node:\", int(os.environ['SLURM_CPUS_ON_NODE']))\n",
    "num_cpus = int(os.environ['SLURM_CPUS_ON_NODE'])"
   ]
  },
  {
   "cell_type": "markdown",
   "metadata": {},
   "source": [
    "# Lib\n",
    "Copied from `MIPT.py` to allow for more flexible development."
   ]
  },
  {
   "cell_type": "code",
   "execution_count": 3,
   "metadata": {},
   "outputs": [],
   "source": [
    "@njit\n",
    "def qubit_pos(i, D = 1):\n",
    "    \"\"\"Generates a list of qubit positions corresponding to qudit i.\n",
    "\n",
    "    Args:\n",
    "        i (int): The qudit position.\n",
    "        D (int, optional): The number of qubits per qudit. Defaults to 1.\n",
    "\n",
    "    Returns:\n",
    "        list: The list of qubit positions.\n",
    "    \"\"\"\n",
    "    return [i * D + j for j in range(D)]\n",
    "\n",
    "def random_clifford(circ, even = True, D = 1):\n",
    "    \"\"\"Adds a layer of random Clifford gates to the circuit.\n",
    "\n",
    "    Args:\n",
    "        circ (pc.circuit.Circuit): The circuit to add gates to.\n",
    "        even (bool, optional): Whether to add gates starting with even or odd qudits. Defaults to True.\n",
    "        D (int, optional): The number of qubits per qudit. Defaults to 1.\n",
    "    \n",
    "    Returns:\n",
    "        None\n",
    "    \"\"\"\n",
    "    N = circ.N\n",
    "    assert N % D == 0\n",
    "    L = int(N / D)\n",
    "\n",
    "    for i in range(L // 2):\n",
    "        if even:\n",
    "            q1 = 2 * i\n",
    "            q2 = q1 + 1\n",
    "        else:\n",
    "            q1 = 2 * i + 1\n",
    "            q2 = (q1 + 1) % L\n",
    "        circ.gate(*qubit_pos(q1, D), *qubit_pos(q2, D))\n",
    "\n",
    "@njit\n",
    "def generate_measurement_position(L, p, D = 1):\n",
    "    \"\"\"Generates a random list of positions to measure.\n",
    "\n",
    "    Args:\n",
    "        L (int): The number of qudits in the circuit.\n",
    "        p (float): The probability of measuring each qudit.\n",
    "        D (int, optional): The number of qubits per qudit. Defaults to 1.\n",
    "\n",
    "    Returns:\n",
    "        list: The list of qubit positions to measure.\n",
    "    \"\"\"\n",
    "    positions = []\n",
    "    for i in range(L):\n",
    "        if np.random.rand()<p:\n",
    "            positions.extend(qubit_pos(i, D))\n",
    "    return positions\n",
    "\n",
    "def random_measurement(circ, p, D = 1):\n",
    "    \"\"\"Adds a layer of random measurements to the circuit.\n",
    "\n",
    "    Args:\n",
    "        circ (pc.circuit.Circuit): The circuit to add measurements to.\n",
    "        p (float): The probability of measuring each qudit.\n",
    "        D (int, optional): The number of qubits per qudit. Defaults to 1.\n",
    "\n",
    "    Returns:\n",
    "        None\n",
    "    \"\"\"\n",
    "    L = int(circ.N / D)\n",
    "    pos = generate_measurement_position(L, p, D)\n",
    "    if pos: # not empty\n",
    "        circ.measure(*pos)\n",
    "\n",
    "def create_circuit(L, depth, p, D = 1):\n",
    "    \"\"\"Creates a random Clifford circuit with random measurements.\n",
    "    \n",
    "    Args:\n",
    "        L (int): The number of qudits in the circuit.\n",
    "        depth (int): The number of time steps in the circuit.\n",
    "        p (float): The probability of measuring each qudit.\n",
    "        D (int, optional): The number of qubits per qudit. Defaults to 1.\n",
    "    \n",
    "    Returns:\n",
    "        pc.circuit.Circuit: The random Clifford circuit.\n",
    "    \"\"\"\n",
    "    N = L * D\n",
    "    if p > 0:\n",
    "        circ = pc.circuit.Circuit(N)\n",
    "        for _ in range(depth):\n",
    "            random_clifford(circ, even = True, D = D)\n",
    "            random_measurement(circ, p, D)\n",
    "            random_clifford(circ, even = False, D = D)\n",
    "            random_measurement(circ, p, D)\n",
    "    else:\n",
    "        circ = pc.circuit.Circuit(N) # TODO: use tc.circuit.CliffordCircuit for greater speedup\n",
    "        for _ in range(depth):\n",
    "            random_clifford(circ, even = True, D = D)\n",
    "            random_clifford(circ, even = False, D = D)\n",
    "    return circ\n",
    "\n",
    "def me_state(L, D = 1):\n",
    "    \"\"\"Creates a random maximally entangled state.\n",
    "\n",
    "    Args:\n",
    "        L (int): The number of qudits in the state.\n",
    "        D (int, optional): The number of qubits per qudit. Defaults to 1.\n",
    "    \n",
    "    Returns:\n",
    "        pc.stabilizer.StabilizerState: The maximally entangled state.\n",
    "    \"\"\"\n",
    "    N = L * D\n",
    "    state = pc.zero_state(N)\n",
    "    circ = create_circuit(L, L // 2, 0, D)\n",
    "    circ.forward(state)\n",
    "    return state\n",
    "\n",
    "def entropy(state, D = 1, A = None):\n",
    "    \"\"\"Calculates the bipartite entanglement entropy of the state.\n",
    "\n",
    "    Args:\n",
    "        state (pc.stabilizer.StabilizerState): The state to calculate the entropy of.\n",
    "        D (int, optional): The number of qubits per qudit. Defaults to 1.\n",
    "        A (list, optional): The list of qudit positions to calculate the entropy of. Defaults to None (first half of the qudits)\n",
    "\n",
    "    Returns:\n",
    "        float: The bipartite entanglement entropy.\n",
    "    \"\"\"\n",
    "    N = state.N\n",
    "    L = int(N / D)\n",
    "    if A is None:\n",
    "        A = [i for i in range(L // 2)]\n",
    "    return state.entropy([j for i in A for j in qubit_pos(i, D)])\n",
    "\n",
    "def bip_info(state, D = 1, recip_size = 8):\n",
    "    \"\"\"Calculates the bipartite mutual information of two opposite subsystems.\n",
    "\n",
    "    Args:\n",
    "        state (pc.stabilizer.StabilizerState): The state to calculate the mutual information of.\n",
    "        D (int, optional): The number of qubits per qudit. Defaults to 1.\n",
    "        recip_size (int, optional): The reciprocal size of the subsystems, in terms of L. Defaults to 8.\n",
    "    \n",
    "    Returns:\n",
    "        float: The bipartite mutual information.\n",
    "    \"\"\"\n",
    "    N = state.N\n",
    "    L = int(N / D)\n",
    "    assert recip_size > 2\n",
    "    subsys_size = int(L / recip_size)\n",
    "    subsys_1 = [i for i in range(subsys_size)]\n",
    "    subsys_2 = [int(L / 2) + i for i in range(subsys_size)]\n",
    "    return entropy(state, D, subsys_1) + entropy(state, D, subsys_2) - entropy(state, D, subsys_1 + subsys_2)\n",
    "\n",
    "def trip_info(state, D = 1, recip_size = 4):\n",
    "    \"\"\"Calculates the negative tripartite mutual information of three adjacent subsystems.\n",
    "    \n",
    "    Args:\n",
    "        state (pc.stabilizer.StabilizerState): The state to calculate the mutual information of.\n",
    "        D (int, optional): The number of qubits per qudit. Defaults to 1.\n",
    "        recip_size (int, optional): The reciprocal size of the subsystems, in terms of L. Defaults to 4.\n",
    "    \n",
    "    Returns:\n",
    "        float: The negative tripartite mutual information.\n",
    "    \"\"\"\n",
    "    N = state.N\n",
    "    L = int(N / D)\n",
    "    assert recip_size > 3\n",
    "\n",
    "    subsys_size = int(L / recip_size)\n",
    "    subsys_1 = [i for i in range(subsys_size)]\n",
    "    subsys_2 = [i + subsys_size for i in range(subsys_size)]\n",
    "    subsys_3 = [i + 2 * subsys_size for i in range(subsys_size)]\n",
    "\n",
    "    info_1 = entropy(state, D, subsys_1) + entropy(state, D, subsys_2) + entropy(state, D, subsys_3)\n",
    "    info_2 = entropy(state, D, subsys_1 + subsys_2) + entropy(state, D, subsys_2 + subsys_3) + entropy(state, D, subsys_3 + subsys_1)\n",
    "    info_3 = entropy(state, D, subsys_1 + subsys_2 + subsys_3)\n",
    "    return -info_1 + info_2 - info_3\n",
    "\n",
    "def evolve_entropy(state, depth, p, D = 1):\n",
    "    \"\"\"Computes the bipartite entanglement entropy of the state under random time evolution.\n",
    "\n",
    "    Args:\n",
    "        state (pc.stabilizer.StabilizerState): The initial state.\n",
    "        depth (int): The number of time steps.\n",
    "        p (float): The probability of measuring each qudit.\n",
    "        D (int, optional): The number of qubits per qudit. Defaults to 1.\n",
    "\n",
    "    Returns:\n",
    "        np.ndarray: An array of shape (depth + 1,) containing the bipartite entanglement entropies.\n",
    "    \"\"\"\n",
    "    N = state.N\n",
    "    L = int(N / D)\n",
    "    entropies = [entropy(state, D)]\n",
    "    for _ in range(depth):\n",
    "        circ = create_circuit(L, 1, p, D)\n",
    "        circ.forward(state)\n",
    "        entropies.append(entropy(state, D))\n",
    "    return np.array(entropies)\n",
    "\n",
    "def evolve_entropies(L, depth, p, zero = True, shots = 10, D = 1, logging = True):\n",
    "    \"\"\"Computes an ensemble average version of evolve_entropy.\n",
    "\n",
    "    Args:\n",
    "        L (int): The number of qudits in the state.\n",
    "        depth (int): The number of time steps.\n",
    "        p (float): The probability of measuring each qudit.\n",
    "        zero (bool, optional): Whether to start from the zero state. Defaults to True.\n",
    "        shots (int, optional): The number of samples to average over. Defaults to 10.\n",
    "        D (int, optional): The number of qubits per qudit. Defaults to 1.\n",
    "        logging (bool, optional): Whether to display a progress bar. Defaults to True.\n",
    "    \n",
    "    Returns:\n",
    "        np.ndarray: An array of shape (2, depth + 1) containing the mean and std of the bipartite entanglement entropies.\n",
    "    \"\"\"\n",
    "    N = L * D\n",
    "    entropies_raw = []\n",
    "    if logging:\n",
    "        for _ in tqdm(range(shots)):\n",
    "            if zero:\n",
    "                state = pc.zero_state(N)\n",
    "            else:\n",
    "                state = me_state(L, D)\n",
    "            entropies_raw.append(evolve_entropy(state, depth, p, D))\n",
    "    else:\n",
    "        for _ in range(shots):\n",
    "            if zero:\n",
    "                state = pc.zero_state(N)\n",
    "            else:\n",
    "                state = me_state(L, D)\n",
    "            entropies_raw.append(evolve_entropy(state, depth, p, D))\n",
    "    \n",
    "    entropies_raw = np.array(entropies_raw)\n",
    "    entropies_mean = np.mean(entropies_raw, axis = 0)\n",
    "    entropies_std = np.std(entropies_raw, axis = 0, ddof = 1) / np.sqrt(shots)\n",
    "    return np.array([entropies_mean, entropies_std])\n"
   ]
  },
  {
   "cell_type": "markdown",
   "metadata": {},
   "source": [
    "# Dev"
   ]
  },
  {
   "cell_type": "markdown",
   "metadata": {},
   "source": [
    "## Bipartite mutual information"
   ]
  },
  {
   "cell_type": "code",
   "execution_count": 4,
   "metadata": {},
   "outputs": [],
   "source": [
    "L = 32\n",
    "depth = int(L / 2)\n",
    "shots = 10000\n",
    "D = 1\n",
    "N = L * D"
   ]
  },
  {
   "cell_type": "code",
   "execution_count": 5,
   "metadata": {},
   "outputs": [],
   "source": [
    "def sample_trip(p):\n",
    "    circ = create_circuit(L, depth, p, D = D)\n",
    "    state = pc.zero_state(N)\n",
    "    circ.forward(state)\n",
    "    return trip_info(state, D = D)"
   ]
  },
  {
   "cell_type": "markdown",
   "metadata": {},
   "source": [
    "Benchmarking on 32 qubits, 10k shots:\n",
    "\n",
    "* `multiprocess`, 32 CPUs - 0:57\n",
    "* `multiprocess`, 4 CPUs - 2:45\n",
    "* `multiprocess`, 2 CPUs - 4:55\n",
    "* For loop - 8:10"
   ]
  },
  {
   "cell_type": "code",
   "execution_count": 7,
   "metadata": {},
   "outputs": [],
   "source": [
    "start_time = time.time()\n",
    "with Pool(num_cpus) as pool:\n",
    "    result = pool.map(sample_trip, [0.16] * shots)\n",
    "end_time = time.time()"
   ]
  },
  {
   "cell_type": "code",
   "execution_count": null,
   "metadata": {},
   "outputs": [],
   "source": [
    "# ps = np.append(np.arange(0, 0.26, 0.01), [0.3, 0.4, 0.5])\n",
    "ps = np.arange(0.14, 0.185, 0.005)"
   ]
  },
  {
   "cell_type": "code",
   "execution_count": null,
   "metadata": {},
   "outputs": [
    {
     "name": "stderr",
     "output_type": "stream",
     "text": [
      "100%|█████████████████████████████████████████████████████████████████████████████████████████| 9/9 [01:12<00:00,  8.09s/it]\n"
     ]
    }
   ],
   "source": [
    "I_bip = []\n",
    "I_trip = []\n",
    "for p in tqdm(ps):\n",
    "    I_bip_p = []\n",
    "    I_trip_p = []\n",
    "    for _ in range(shots):\n",
    "        circ = create_circuit(L, depth, p, D = D)\n",
    "        state = pc.zero_state(N)\n",
    "        circ.forward(state)\n",
    "        I_bip_p.append(bip_info(state, D = D))\n",
    "        I_trip_p.append(trip_info(state, D = D))\n",
    "    I_bip_p = np.array(I_bip_p)\n",
    "    I_bip.append((np.mean(I_bip_p), np.std(I_bip_p, ddof = 1) / np.sqrt(shots)))\n",
    "    I_trip_p = np.array(I_trip_p)\n",
    "    I_trip.append((np.mean(I_trip_p), np.std(I_trip_p, ddof = 1) / np.sqrt(shots)))"
   ]
  },
  {
   "cell_type": "code",
   "execution_count": null,
   "metadata": {},
   "outputs": [
    {
     "data": {
      "image/png": "[encoded data removed]",
      "text/plain": [
       "<Figure size 576x432 with 1 Axes>"
      ]
     },
     "metadata": {
      "needs_background": "light"
     },
     "output_type": "display_data"
    }
   ],
   "source": [
    "# stub = \"clifford/figs/{}_{}_{}_{}_\".format(L, depth, shots, D)\n",
    "colors = sns.color_palette(\"tab10\")\n",
    "plt.subplots(figsize = (8, 6), layout = \"constrained\")\n",
    "\n",
    "plt.plot(ps, [I_p[0] for I_p in I_bip], label = \"$L={}$\".format(L), color = colors[0])\n",
    "plt.fill_between(ps, [I_p[0] - I_p[1] for I_p in I_bip], [I_p[0] + I_p[1] for I_p in I_bip], color = colors[0], alpha = 0.3)\n",
    "plt.xlabel(r\"$p$\")\n",
    "plt.ylabel(r\"$I_2$\")\n",
    "plt.title(r\"Bipartite mutual information, $\\left|A\\right|=\\left|B\\right|=\\frac{L}{8}$\")\n",
    "plt.legend(loc = \"upper right\")\n",
    "plt.minorticks_on()\n",
    "# plt.savefig(stub + \"bip.png\")"
   ]
  },
  {
   "cell_type": "code",
   "execution_count": null,
   "metadata": {},
   "outputs": [
    {
     "data": {
      "image/png": "[encoded data removed]",
      "text/plain": [
       "<Figure size 576x432 with 1 Axes>"
      ]
     },
     "metadata": {
      "needs_background": "light"
     },
     "output_type": "display_data"
    }
   ],
   "source": [
    "# stub = \"clifford/figs/{}_{}_{}_{}_\".format(L, depth, shots, D)\n",
    "colors = sns.color_palette(\"tab10\")\n",
    "plt.subplots(figsize = (8, 6), layout = \"constrained\")\n",
    "plt.plot(ps, [I_p[0] for I_p in I_trip], label = \"$L={}$\".format(L), color = colors[0])\n",
    "plt.fill_between(ps, [I_p[0] - I_p[1] for I_p in I_trip], [I_p[0] + I_p[1] for I_p in I_trip], color = colors[0], alpha = 0.3)\n",
    "plt.xlabel(r\"$p$\")\n",
    "plt.ylabel(r\"$-I_3$\")\n",
    "plt.title(r\"Tripartite mutual information, $\\left|A\\right|=\\left|B\\right|=\\left|C\\right|=\\frac{L}{4}$\")\n",
    "plt.legend(loc = \"upper right\")\n",
    "plt.minorticks_on()\n",
    "# plt.savefig(stub + \"trip.png\")"
   ]
  },
  {
   "cell_type": "code",
   "execution_count": null,
   "metadata": {},
   "outputs": [],
   "source": []
  }
 ],
 "metadata": {
  "kernelspec": {
   "display_name": "Python 3 (ipykernel)",
   "language": "python",
   "name": "python3"
  },
  "language_info": {
   "codemirror_mode": {
    "name": "ipython",
    "version": 3
   },
   "file_extension": ".py",
   "mimetype": "text/x-python",
   "name": "python",
   "nbconvert_exporter": "python",
   "pygments_lexer": "ipython3",
   "version": "3.9.0"
  },
  "orig_nbformat": 4
 },
 "nbformat": 4,
 "nbformat_minor": 2
}
