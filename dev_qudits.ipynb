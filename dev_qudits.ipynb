{
 "cells": [
  {
   "cell_type": "code",
   "execution_count": 45,
   "metadata": {},
   "outputs": [
    {
     "name": "stdout",
     "output_type": "stream",
     "text": [
      "The autoreload extension is already loaded. To reload it, use:\n",
      "  %reload_ext autoreload\n"
     ]
    }
   ],
   "source": [
    "# will autoupdate any of the packages imported:\n",
    "%load_ext autoreload\n",
    "%autoreload 2\n",
    "%matplotlib inline"
   ]
  },
  {
   "cell_type": "code",
   "execution_count": 46,
   "metadata": {},
   "outputs": [
    {
     "name": "stdout",
     "output_type": "stream",
     "text": [
      "Number of CPUs:  20\n",
      "Number of CPUs available:  8\n",
      "Number of CPUs per task: 8\n",
      "Number of CPUs on node: 8\n"
     ]
    }
   ],
   "source": [
    "import numpy as np\n",
    "import pyclifford as pc\n",
    "from numba import njit\n",
    "from tqdm import tqdm\n",
    "from matplotlib import pyplot as plt\n",
    "import seaborn as sns\n",
    "colors = sns.color_palette(\"tab10\")\n",
    "import time\n",
    "from multiprocess import Pool\n",
    "import os\n",
    "print(\"Number of CPUs: \", os.cpu_count())\n",
    "print(\"Number of CPUs available: \", len(os.sched_getaffinity(0)))\n",
    "print(\"Number of CPUs per task:\", int(os.environ['SLURM_CPUS_PER_TASK']))\n",
    "print(\"Number of CPUs on node:\", int(os.environ['SLURM_CPUS_ON_NODE']))\n",
    "num_cpus = len(os.sched_getaffinity(0))"
   ]
  },
  {
   "cell_type": "markdown",
   "metadata": {},
   "source": [
    "# Lib\n",
    "Copied from `MIPT.py` to allow for more flexible development."
   ]
  },
  {
   "cell_type": "code",
   "execution_count": 47,
   "metadata": {},
   "outputs": [],
   "source": [
    "@njit\n",
    "def qubit_pos(i, D = 1):\n",
    "    \"\"\"Generates a list of qubit positions corresponding to qudit i.\n",
    "\n",
    "    Args:\n",
    "        i (int): The qudit position.\n",
    "        D (int, optional): The number of qubits per qudit. Defaults to 1.\n",
    "\n",
    "    Returns:\n",
    "        list: The list of qubit positions.\n",
    "    \"\"\"\n",
    "    return [i * D + j for j in range(D)]\n",
    "\n",
    "def random_clifford(circ, even = True, D = 1):\n",
    "    \"\"\"Adds a layer of random Clifford gates to the circuit.\n",
    "\n",
    "    Args:\n",
    "        circ (pc.circuit.Circuit): The circuit to add gates to.\n",
    "        even (bool, optional): Whether to add gates starting with even or odd qudits. Defaults to True.\n",
    "        D (int, optional): The number of qubits per qudit. Defaults to 1.\n",
    "    \n",
    "    Returns:\n",
    "        None\n",
    "    \"\"\"\n",
    "    N = circ.N\n",
    "    assert N % D == 0\n",
    "    L = int(N / D)\n",
    "\n",
    "    for i in range(L // 2):\n",
    "        if even:\n",
    "            q1 = 2 * i\n",
    "            q2 = q1 + 1\n",
    "        else:\n",
    "            q1 = 2 * i + 1\n",
    "            q2 = (q1 + 1) % L\n",
    "        circ.gate(*qubit_pos(q1, D), *qubit_pos(q2, D))\n",
    "\n",
    "@njit\n",
    "def generate_measurement_position(L, p, D = 1):\n",
    "    \"\"\"Generates a random list of positions to measure.\n",
    "\n",
    "    Args:\n",
    "        L (int): The number of qudits in the circuit.\n",
    "        p (float): The probability of measuring each qudit.\n",
    "        D (int, optional): The number of qubits per qudit. Defaults to 1.\n",
    "\n",
    "    Returns:\n",
    "        list: The list of qubit positions to measure.\n",
    "    \"\"\"\n",
    "    positions = []\n",
    "    for i in range(L):\n",
    "        if np.random.rand()<p:\n",
    "            positions.extend(qubit_pos(i, D))\n",
    "    return positions\n",
    "\n",
    "def random_measurement(circ, p, D = 1):\n",
    "    \"\"\"Adds a layer of random measurements to the circuit.\n",
    "\n",
    "    Args:\n",
    "        circ (pc.circuit.Circuit): The circuit to add measurements to.\n",
    "        p (float): The probability of measuring each qudit.\n",
    "        D (int, optional): The number of qubits per qudit. Defaults to 1.\n",
    "\n",
    "    Returns:\n",
    "        None\n",
    "    \"\"\"\n",
    "    L = int(circ.N / D)\n",
    "    pos = generate_measurement_position(L, p, D)\n",
    "    if pos: # not empty\n",
    "        circ.measure(*pos)\n",
    "\n",
    "def create_circuit(L, depth, p, D = 1):\n",
    "    \"\"\"Creates a random Clifford circuit with random measurements.\n",
    "    \n",
    "    Args:\n",
    "        L (int): The number of qudits in the circuit.\n",
    "        depth (int): The number of time steps in the circuit.\n",
    "        p (float): The probability of measuring each qudit.\n",
    "        D (int, optional): The number of qubits per qudit. Defaults to 1.\n",
    "    \n",
    "    Returns:\n",
    "        pc.circuit.Circuit: The random Clifford circuit.\n",
    "    \"\"\"\n",
    "    N = L * D\n",
    "    if p > 0:\n",
    "        circ = pc.circuit.Circuit(N)\n",
    "        for _ in range(depth):\n",
    "            random_clifford(circ, even = True, D = D)\n",
    "            random_measurement(circ, p, D)\n",
    "            random_clifford(circ, even = False, D = D)\n",
    "            random_measurement(circ, p, D)\n",
    "    else:\n",
    "        circ = pc.circuit.Circuit(N) # TODO: use tc.circuit.CliffordCircuit for greater speedup\n",
    "        for _ in range(depth):\n",
    "            random_clifford(circ, even = True, D = D)\n",
    "            random_clifford(circ, even = False, D = D)\n",
    "    return circ\n",
    "\n",
    "def me_state(L, D = 1):\n",
    "    \"\"\"Creates a random maximally entangled state.\n",
    "\n",
    "    Args:\n",
    "        L (int): The number of qudits in the state.\n",
    "        D (int, optional): The number of qubits per qudit. Defaults to 1.\n",
    "    \n",
    "    Returns:\n",
    "        pc.stabilizer.StabilizerState: The maximally entangled state.\n",
    "    \"\"\"\n",
    "    N = L * D\n",
    "    state = pc.zero_state(N)\n",
    "    circ = create_circuit(L, L // 2, 0, D)\n",
    "    circ.forward(state)\n",
    "    return state\n",
    "\n",
    "def entropy(state, D = 1, A = None):\n",
    "    \"\"\"Calculates the bipartite entanglement entropy of the state.\n",
    "\n",
    "    Args:\n",
    "        state (pc.stabilizer.StabilizerState): The state to calculate the entropy of.\n",
    "        D (int, optional): The number of qubits per qudit. Defaults to 1.\n",
    "        A (list, optional): The list of qudit positions to calculate the entropy of. Defaults to None (first half of the qudits)\n",
    "\n",
    "    Returns:\n",
    "        float: The bipartite entanglement entropy.\n",
    "    \"\"\"\n",
    "    N = state.N\n",
    "    L = int(N / D)\n",
    "    if A is None:\n",
    "        A = [i for i in range(L // 2)]\n",
    "    return state.entropy([j for i in A for j in qubit_pos(i, D)])\n",
    "\n",
    "def bip_info(state, D = 1, recip_size = 8):\n",
    "    \"\"\"Calculates the bipartite mutual information of two opposite subsystems.\n",
    "\n",
    "    Args:\n",
    "        state (pc.stabilizer.StabilizerState): The state to calculate the mutual information of.\n",
    "        D (int, optional): The number of qubits per qudit. Defaults to 1.\n",
    "        recip_size (int, optional): The reciprocal size of the subsystems, in terms of L. Defaults to 8.\n",
    "    \n",
    "    Returns:\n",
    "        float: The bipartite mutual information.\n",
    "    \"\"\"\n",
    "    N = state.N\n",
    "    L = int(N / D)\n",
    "    assert recip_size > 2\n",
    "    subsys_size = int(L / recip_size)\n",
    "    subsys_1 = [i for i in range(subsys_size)]\n",
    "    subsys_2 = [int(L / 2) + i for i in range(subsys_size)]\n",
    "    return entropy(state, D, subsys_1) + entropy(state, D, subsys_2) - entropy(state, D, subsys_1 + subsys_2)\n",
    "\n",
    "def trip_info(state, D = 1, recip_size = 4):\n",
    "    \"\"\"Calculates the negative tripartite mutual information of three adjacent subsystems.\n",
    "    \n",
    "    Args:\n",
    "        state (pc.stabilizer.StabilizerState): The state to calculate the mutual information of.\n",
    "        D (int, optional): The number of qubits per qudit. Defaults to 1.\n",
    "        recip_size (int, optional): The reciprocal size of the subsystems, in terms of L. Defaults to 4.\n",
    "    \n",
    "    Returns:\n",
    "        float: The negative tripartite mutual information.\n",
    "    \"\"\"\n",
    "    N = state.N\n",
    "    L = int(N / D)\n",
    "    assert recip_size > 3\n",
    "\n",
    "    subsys_size = int(L / recip_size)\n",
    "    subsys_1 = [i for i in range(subsys_size)]\n",
    "    subsys_2 = [i + subsys_size for i in range(subsys_size)]\n",
    "    subsys_3 = [i + 2 * subsys_size for i in range(subsys_size)]\n",
    "\n",
    "    info_1 = entropy(state, D, subsys_1) + entropy(state, D, subsys_2) + entropy(state, D, subsys_3)\n",
    "    info_2 = entropy(state, D, subsys_1 + subsys_2) + entropy(state, D, subsys_2 + subsys_3) + entropy(state, D, subsys_3 + subsys_1)\n",
    "    info_3 = entropy(state, D, subsys_1 + subsys_2 + subsys_3)\n",
    "    return -info_1 + info_2 - info_3\n",
    "\n",
    "def evolve_entropy(state, depth, p, D = 1):\n",
    "    \"\"\"Computes the bipartite entanglement entropy of the state under random time evolution.\n",
    "\n",
    "    Args:\n",
    "        state (pc.stabilizer.StabilizerState): The initial state.\n",
    "        depth (int): The number of time steps.\n",
    "        p (float): The probability of measuring each qudit.\n",
    "        D (int, optional): The number of qubits per qudit. Defaults to 1.\n",
    "\n",
    "    Returns:\n",
    "        np.ndarray: An array of shape (depth + 1,) containing the bipartite entanglement entropies.\n",
    "    \"\"\"\n",
    "    N = state.N\n",
    "    L = int(N / D)\n",
    "    entropies = [entropy(state, D)]\n",
    "    for _ in range(depth):\n",
    "        circ = create_circuit(L, 1, p, D)\n",
    "        circ.forward(state)\n",
    "        entropies.append(entropy(state, D))\n",
    "    return np.array(entropies)\n",
    "\n",
    "def evolve_entropies(L, depth, p, zero = True, shots = 10, D = 1, logging = True):\n",
    "    \"\"\"Computes an ensemble average version of evolve_entropy.\n",
    "\n",
    "    Args:\n",
    "        L (int): The number of qudits in the state.\n",
    "        depth (int): The number of time steps.\n",
    "        p (float): The probability of measuring each qudit.\n",
    "        zero (bool, optional): Whether to start from the zero state. Defaults to True.\n",
    "        shots (int, optional): The number of samples to average over. Defaults to 10.\n",
    "        D (int, optional): The number of qubits per qudit. Defaults to 1.\n",
    "        logging (bool, optional): Whether to display a progress bar. Defaults to True.\n",
    "    \n",
    "    Returns:\n",
    "        np.ndarray: An array of shape (2, depth + 1) containing the mean and std of the bipartite entanglement entropies.\n",
    "    \"\"\"\n",
    "    N = L * D\n",
    "    entropies_raw = []\n",
    "    if logging:\n",
    "        for _ in tqdm(range(shots)):\n",
    "            if zero:\n",
    "                state = pc.zero_state(N)\n",
    "            else:\n",
    "                state = me_state(L, D)\n",
    "            entropies_raw.append(evolve_entropy(state, depth, p, D))\n",
    "    else:\n",
    "        for _ in range(shots):\n",
    "            if zero:\n",
    "                state = pc.zero_state(N)\n",
    "            else:\n",
    "                state = me_state(L, D)\n",
    "            entropies_raw.append(evolve_entropy(state, depth, p, D))\n",
    "    \n",
    "    entropies_raw = np.array(entropies_raw)\n",
    "    entropies_mean = np.mean(entropies_raw, axis = 0)\n",
    "    entropies_std = np.std(entropies_raw, axis = 0, ddof = 1) / np.sqrt(shots)\n",
    "    return np.array([entropies_mean, entropies_std])\n"
   ]
  },
  {
   "cell_type": "code",
   "execution_count": 48,
   "metadata": {},
   "outputs": [],
   "source": [
    "@njit\n",
    "def xi(L, z1, z2):\n",
    "    \"\"\"Calculates xi, as defined by Li et al. in https://arxiv.org/abs/2003.12721.\n",
    "\n",
    "    Args:\n",
    "        L (int): The number of qudits in the state.\n",
    "        z1 (int): The first qudit position.\n",
    "        z2 (int): The second qudit position.\n",
    "\n",
    "    Returns:\n",
    "        float: xi.\n",
    "    \"\"\"\n",
    "    if z1 == z2:\n",
    "        raise ValueError(\"z1 and z2 must be different\")\n",
    "    return (np.pi / L / np.sin(np.pi * (z1 - z2) / L)) ** 2"
   ]
  },
  {
   "cell_type": "markdown",
   "metadata": {},
   "source": [
    "# Dev"
   ]
  },
  {
   "cell_type": "code",
   "execution_count": 49,
   "metadata": {},
   "outputs": [],
   "source": [
    "L = 256\n",
    "depth = int(L / 2)\n",
    "shots = 256\n",
    "timesteps = 128\n",
    "D = 1\n",
    "N = L * D\n",
    "\n",
    "p = 0.16\n",
    "YT = 0.61"
   ]
  },
  {
   "cell_type": "code",
   "execution_count": 50,
   "metadata": {},
   "outputs": [],
   "source": [
    "def sample_all_entropies(state, D = 1):\n",
    "    result = []\n",
    "    N = state.N\n",
    "    L = int(N / D)\n",
    "    qubits = []\n",
    "    for i in range(1, int(L / 2) + 1):\n",
    "        qubits.extend(qubit_pos(i, D))\n",
    "        x = xi(L, 0, i)\n",
    "        y = entropy(state, D, qubits)\n",
    "        result.append((x, y))\n",
    "    return np.array(result)"
   ]
  },
  {
   "cell_type": "code",
   "execution_count": 51,
   "metadata": {},
   "outputs": [],
   "source": [
    "def sample(dummy):\n",
    "    circ = create_circuit(L, depth, p, D)\n",
    "    state = pc.zero_state(N)\n",
    "    circ.forward(state)\n",
    "    buffer = sample_all_entropies(state, D)\n",
    "    for i in range(timesteps - 1):\n",
    "        circ = create_circuit(L, 1, p, D)\n",
    "        circ.forward(state)\n",
    "        buffer = np.vstack((buffer, sample_all_entropies(state, D)))\n",
    "    return buffer"
   ]
  },
  {
   "cell_type": "code",
   "execution_count": 52,
   "metadata": {},
   "outputs": [],
   "source": [
    "with Pool(num_cpus) as pool:\n",
    "    results = pool.map(sample, range(shots))"
   ]
  },
  {
   "cell_type": "code",
   "execution_count": 53,
   "metadata": {},
   "outputs": [],
   "source": [
    "results = np.array(results).reshape((-1,int(L / 2),2))"
   ]
  },
  {
   "cell_type": "code",
   "execution_count": 54,
   "metadata": {},
   "outputs": [
    {
     "data": {
      "text/plain": [
       "(32768, 128, 2)"
      ]
     },
     "execution_count": 54,
     "metadata": {},
     "output_type": "execute_result"
    }
   ],
   "source": [
    "results.shape"
   ]
  },
  {
   "cell_type": "code",
   "execution_count": 59,
   "metadata": {},
   "outputs": [],
   "source": [
    "means = np.mean(results, axis = 0)\n",
    "stds = np.std(results[:, :, 1], axis = 0, ddof = 1) / np.sqrt(results.shape[0])"
   ]
  },
  {
   "cell_type": "code",
   "execution_count": 60,
   "metadata": {},
   "outputs": [
    {
     "data": {
      "text/plain": [
       "Text(0.5, 1.0, 'Entanglement entropy as $\\\\tau\\\\to\\\\infty$, mapped to 2-point function')"
      ]
     },
     "execution_count": 60,
     "metadata": {},
     "output_type": "execute_result"
    },
    {
     "data": {
      "image/png": "[encoded data removed]",
      "text/plain": [
       "<Figure size 576x432 with 1 Axes>"
      ]
     },
     "metadata": {
      "needs_background": "light"
     },
     "output_type": "display_data"
    },
    {
     "ename": "",
     "evalue": "",
     "output_type": "error",
     "traceback": [
      "\u001b[1;31mThe Kernel crashed while executing code in the the current cell or a previous cell. Please review the code in the cell(s) to identify a possible cause of the failure. Click <a href='https://aka.ms/vscodeJupyterKernelCrash'>here</a> for more info. View Jupyter <a href='command:jupyter.viewOutput'>log</a> for further details."
     ]
    },
    {
     "ename": "",
     "evalue": "",
     "output_type": "error",
     "traceback": [
      "\u001b[1;31mThe Kernel crashed while executing code in the the current cell or a previous cell. Please review the code in the cell(s) to identify a possible cause of the failure. Click <a href='https://aka.ms/vscodeJupyterKernelCrash'>here</a> for more info. View Jupyter <a href='command:jupyter.viewOutput'>log</a> for further details."
     ]
    }
   ],
   "source": [
    "plt.subplots(figsize = (8, 6), layout = \"constrained\")\n",
    "plt.plot(means[:, 0], means[:, 1], label = \"$L={}$\".format(L))\n",
    "plt.fill_between(means[:, 0], means[:, 1] - stds, means[:, 1] + stds, alpha = 0.5)\n",
    "plt.xscale('log')\n",
    "plt.ylabel(r\"$S([z_1,z_2])$\")\n",
    "plt.xlabel(r\"$\\left(\\frac{\\pi}{L}\\right)^2\\csc^2\\left(\\frac{\\pi}{L}(z_1-z_2)\\right)$\")\n",
    "plt.legend()\n",
    "plt.title(\"Entanglement entropy as $\\\\tau\\\\to\\infty$, mapped to 2-point function\")"
   ]
  },
  {
   "cell_type": "code",
   "execution_count": null,
   "metadata": {},
   "outputs": [],
   "source": []
  }
 ],
 "metadata": {
  "kernelspec": {
   "display_name": "Python 3 (ipykernel)",
   "language": "python",
   "name": "python3"
  },
  "orig_nbformat": 4
 },
 "nbformat": 4,
 "nbformat_minor": 2
}
