{
 "cells": [
  {
   "cell_type": "code",
   "execution_count": 11,
   "metadata": {},
   "outputs": [],
   "source": [
    "from qiskit import QuantumRegister, ClassicalRegister, QuantumCircuit, transpile\n",
    "from qiskit.providers.aer import Aer\n",
    "from qiskit.quantum_info import random_clifford\n",
    "import random\n",
    "\n",
    "import galois\n",
    "import numpy as np\n",
    "from matplotlib import pyplot as plt\n",
    "GF = galois.GF(2)"
   ]
  },
  {
   "cell_type": "code",
   "execution_count": 2,
   "metadata": {},
   "outputs": [],
   "source": [
    "n_qubits = 20\n",
    "T = 50\n",
    "qr = QuantumRegister(n_qubits, 'q')\n",
    "cr = ClassicalRegister(n_qubits, 'c')\n",
    "circ = QuantumCircuit(qr, cr)\n",
    "p = 0.05\n",
    "\n",
    "for t in range(T):\n",
    "    for i in range(n_qubits // 2):\n",
    "        circ.append(random_clifford(2), [qr[2*i], qr[2*i+1]])\n",
    "    \n",
    "    for i in range(n_qubits):\n",
    "        if random.random() < p:\n",
    "            circ.measure(qr[i], cr[i])\n",
    "    \n",
    "    circ.save_state(pershot = True, label = \"t\"+str(2*t))\n",
    "\n",
    "    for j in range((n_qubits - 1) // 2):\n",
    "        circ.append(random_clifford(2), [qr[2*j+1], qr[2*j+2]])\n",
    "    \n",
    "    if n_qubits % 2 == 0:\n",
    "        circ.append(random_clifford(2), [qr[-1], qr[0]])\n",
    "    \n",
    "    for j in range(n_qubits):\n",
    "        if random.random() < p:\n",
    "            circ.measure(qr[j], cr[j])\n",
    "\n",
    "    circ.save_state(pershot = True, label = \"t\"+str(2*t+1))"
   ]
  },
  {
   "cell_type": "code",
   "execution_count": 3,
   "metadata": {},
   "outputs": [],
   "source": [
    "style = {\n",
    "    'displaytext': {\n",
    "        'clifford': r'\\mathbf{C}_2'\n",
    "    }\n",
    "}\n",
    "\n",
    "# circ.draw('mpl', style = style, plot_barriers = False)"
   ]
  },
  {
   "cell_type": "code",
   "execution_count": 4,
   "metadata": {},
   "outputs": [],
   "source": [
    "simulator = Aer.get_backend('aer_simulator_stabilizer')\n",
    "circ = transpile(circ, simulator)\n",
    "result = simulator.run(circ, shots = 1000).result()"
   ]
  },
  {
   "cell_type": "code",
   "execution_count": 5,
   "metadata": {},
   "outputs": [],
   "source": [
    "def B(G):\n",
    "    rv = []\n",
    "    for i in range(n_qubits): # loop through rows\n",
    "        l = np.inf\n",
    "        r = -np.inf\n",
    "        for j in range(n_qubits): # loop through columns\n",
    "            if G[i, 2*j] == 1 or G[i, 2*j+1] == 1:\n",
    "                l = min(l, j)\n",
    "                r = max(r, j)\n",
    "        rv.append((l, r))\n",
    "    return np.array(rv)"
   ]
  },
  {
   "cell_type": "code",
   "execution_count": 6,
   "metadata": {},
   "outputs": [],
   "source": [
    "def clipped_gauge(stab_state):\n",
    "    cliff = stab_state.clifford\n",
    "    tableau = GF(cliff.stab.astype(int))[:, :-1]\n",
    "    # Convert from X|Z to xz...xz, and convert to standard order\n",
    "    stab = np.empty_like(tableau)\n",
    "    stab[:, 0::2] = tableau[:, n_qubits-1::-1]\n",
    "    stab[:, 1::2] = tableau[:, :n_qubits-1:-1]\n",
    "    # Pregauge transformation\n",
    "    stab = stab.row_reduce()\n",
    "    # Gauge transformation (TODO)\n",
    "    rev = stab[::-1, ::-1]\n",
    "    rowset = set()\n",
    "    for j in range(2 * n_qubits):\n",
    "        col = rev[:, j]\n",
    "        rows = np.nonzero(col)[0]\n",
    "        if len(rows) == 0:\n",
    "            continue\n",
    "        if len(rows) == 1:\n",
    "            rowset.add(rows[0])\n",
    "            continue\n",
    "        for i, row in enumerate(rows):\n",
    "            if row not in rowset:\n",
    "                rowset.add(row)\n",
    "                if i != len(rows) - 1:\n",
    "                    rev[rows[i+1:],:] += rev[row,:]\n",
    "    return rev[::-1, ::-1]"
   ]
  },
  {
   "cell_type": "code",
   "execution_count": 17,
   "metadata": {},
   "outputs": [],
   "source": [
    "def entropy(stab_state, A):\n",
    "    cliff = stab_state.clifford\n",
    "    tableau = GF(cliff.stab.astype(int))[:, :-1]\n",
    "    # Convert from X|Z to xz...xz, and convert to standard order\n",
    "    stab = np.empty_like(tableau)\n",
    "    stab[:, 0::2] = tableau[:, n_qubits-1::-1]\n",
    "    stab[:, 1::2] = tableau[:, :n_qubits-1:-1]\n",
    "\n",
    "    return np.linalg.matrix_rank(stab[:,:2*A]) - A"
   ]
  },
  {
   "cell_type": "code",
   "execution_count": 18,
   "metadata": {},
   "outputs": [],
   "source": [
    "stabs = result.data()['t99']"
   ]
  },
  {
   "cell_type": "code",
   "execution_count": 21,
   "metadata": {},
   "outputs": [],
   "source": [
    "S = [entropy(stab_state, 10) for stab_state in stabs]"
   ]
  },
  {
   "cell_type": "code",
   "execution_count": 22,
   "metadata": {},
   "outputs": [
    {
     "data": {
      "text/plain": [
       "(array([   0.,    0.,    0.,    0.,    0., 1000.,    0.,    0.,    0.,\n",
       "           0.]),\n",
       " array([5.5, 5.6, 5.7, 5.8, 5.9, 6. , 6.1, 6.2, 6.3, 6.4, 6.5]),\n",
       " <BarContainer object of 10 artists>)"
      ]
     },
     "execution_count": 22,
     "metadata": {},
     "output_type": "execute_result"
    },
    {
     "data": {
      "image/png": "[encoded data removed]",
      "text/plain": [
       "<Figure size 640x480 with 1 Axes>"
      ]
     },
     "metadata": {},
     "output_type": "display_data"
    }
   ],
   "source": [
    "plt.hist(S)"
   ]
  },
  {
   "cell_type": "code",
   "execution_count": null,
   "metadata": {},
   "outputs": [],
   "source": []
  }
 ],
 "metadata": {
  "kernelspec": {
   "display_name": "qc",
   "language": "python",
   "name": "python3"
  },
  "language_info": {
   "codemirror_mode": {
    "name": "ipython",
    "version": 3
   },
   "file_extension": ".py",
   "mimetype": "text/x-python",
   "name": "python",
   "nbconvert_exporter": "python",
   "pygments_lexer": "ipython3",
   "version": "3.11.3"
  },
  "orig_nbformat": 4
 },
 "nbformat": 4,
 "nbformat_minor": 2
}
