{
 "cells": [
  {
   "cell_type": "code",
   "execution_count": 136,
   "metadata": {},
   "outputs": [],
   "source": [
    "from qiskit import QuantumRegister, ClassicalRegister, QuantumCircuit\n",
    "from qiskit import Aer, transpile\n",
    "from qiskit.quantum_info import random_clifford, entropy\n",
    "import random"
   ]
  },
  {
   "cell_type": "code",
   "execution_count": 152,
   "metadata": {},
   "outputs": [
    {
     "data": {
      "text/plain": [
       "<qiskit.circuit.instructionset.InstructionSet at 0x1198ba32d70>"
      ]
     },
     "execution_count": 152,
     "metadata": {},
     "output_type": "execute_result"
    }
   ],
   "source": [
    "n_qubits = 4 # make sure this is even or everything breaks\n",
    "T = 4\n",
    "qr = QuantumRegister(n_qubits, 'q')\n",
    "cr = ClassicalRegister(n_qubits, 'c')\n",
    "circ = QuantumCircuit(qr, cr)\n",
    "p = 0.05\n",
    "\n",
    "for t in range(T):\n",
    "    for i in range(n_qubits // 2):\n",
    "        circ.append(random_clifford(2), [qr[2*i], qr[2*i+1]])\n",
    "    for i in range(n_qubits):\n",
    "        if random.random() < p:\n",
    "            circ.measure(qr[i], cr[i])\n",
    "\n",
    "    for j in range((n_qubits - 1) // 2):\n",
    "        circ.append(random_clifford(2), [qr[2*j+1], qr[2*j+2]])\n",
    "    circ.append(random_clifford(2), [qr[-1], qr[0]])\n",
    "    \n",
    "    for j in range(n_qubits):\n",
    "        if random.random() < p:\n",
    "            circ.measure(qr[j], cr[j])\n",
    "\n",
    "circ.save_state(pershot = True)\n",
    "\n",
    "# circ.measure_all(add_bits = False)"
   ]
  },
  {
   "cell_type": "code",
   "execution_count": 153,
   "metadata": {},
   "outputs": [
    {
     "data": {
      "image/png": "[encoded data removed]",
      "text/plain": [
       "<Figure size 1374.44x451.5 with 1 Axes>"
      ]
     },
     "execution_count": 153,
     "metadata": {},
     "output_type": "execute_result"
    }
   ],
   "source": [
    "style = {\n",
    "    'displaytext': {\n",
    "        'clifford': r'\\mathbf{C}_2'\n",
    "    }\n",
    "}\n",
    "\n",
    "circ.draw('mpl', style = style)"
   ]
  },
  {
   "cell_type": "code",
   "execution_count": 139,
   "metadata": {},
   "outputs": [],
   "source": [
    "simulator = Aer.get_backend('aer_simulator_stabilizer')\n",
    "circ = transpile(circ, simulator)"
   ]
  },
  {
   "cell_type": "code",
   "execution_count": 140,
   "metadata": {},
   "outputs": [],
   "source": [
    "# circ.draw('mpl')"
   ]
  },
  {
   "cell_type": "code",
   "execution_count": 141,
   "metadata": {},
   "outputs": [],
   "source": [
    "result = simulator.run(circ, shots = 10000).result()\n",
    "stabs = result.data()['stabilizer']"
   ]
  },
  {
   "cell_type": "code",
   "execution_count": 142,
   "metadata": {},
   "outputs": [],
   "source": [
    "test_stab = stabs[0]"
   ]
  },
  {
   "cell_type": "code",
   "execution_count": 155,
   "metadata": {},
   "outputs": [],
   "source": [
    "cliff = test_stab.clifford"
   ]
  },
  {
   "cell_type": "code",
   "execution_count": 179,
   "metadata": {},
   "outputs": [],
   "source": [
    "import galois\n",
    "import numpy as np"
   ]
  },
  {
   "cell_type": "code",
   "execution_count": 170,
   "metadata": {},
   "outputs": [],
   "source": [
    "GF = galois.GF(2)"
   ]
  },
  {
   "cell_type": "code",
   "execution_count": 176,
   "metadata": {},
   "outputs": [],
   "source": [
    "stab_2 = GF(cliff.stab.astype(int))"
   ]
  },
  {
   "cell_type": "code",
   "execution_count": 177,
   "metadata": {},
   "outputs": [
    {
     "data": {
      "text/plain": [
       "GF([[0, 1, 0, 0, 0, 0, 0, 0, 0],\n",
       "    [0, 1, 1, 1, 0, 0, 0, 1, 0],\n",
       "    [1, 0, 1, 0, 0, 0, 0, 0, 1],\n",
       "    [0, 0, 0, 1, 0, 0, 0, 1, 0]], order=2)"
      ]
     },
     "execution_count": 177,
     "metadata": {},
     "output_type": "execute_result"
    }
   ],
   "source": [
    "stab_2"
   ]
  },
  {
   "cell_type": "code",
   "execution_count": 180,
   "metadata": {},
   "outputs": [
    {
     "data": {
      "text/plain": [
       "4"
      ]
     },
     "execution_count": 180,
     "metadata": {},
     "output_type": "execute_result"
    }
   ],
   "source": [
    "np.linalg.matrix_rank(stab_2)"
   ]
  },
  {
   "cell_type": "code",
   "execution_count": null,
   "metadata": {},
   "outputs": [],
   "source": []
  }
 ],
 "metadata": {
  "kernelspec": {
   "display_name": "qc",
   "language": "python",
   "name": "python3"
  },
  "language_info": {
   "codemirror_mode": {
    "name": "ipython",
    "version": 3
   },
   "file_extension": ".py",
   "mimetype": "text/x-python",
   "name": "python",
   "nbconvert_exporter": "python",
   "pygments_lexer": "ipython3",
   "version": "3.11.3"
  },
  "orig_nbformat": 4
 },
 "nbformat": 4,
 "nbformat_minor": 2
}
