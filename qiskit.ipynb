{
 "cells": [
  {
   "cell_type": "code",
   "execution_count": 31,
   "metadata": {},
   "outputs": [],
   "source": [
    "from qiskit import QuantumRegister, ClassicalRegister, QuantumCircuit, transpile\n",
    "from qiskit.providers.aer import Aer\n",
    "from qiskit.quantum_info import random_clifford\n",
    "import random\n",
    "\n",
    "import galois\n",
    "import numpy as np\n",
    "GF = galois.GF(2)"
   ]
  },
  {
   "cell_type": "code",
   "execution_count": 32,
   "metadata": {},
   "outputs": [],
   "source": [
    "n_qubits = 9\n",
    "T = 4\n",
    "qr = QuantumRegister(n_qubits, 'q')\n",
    "cr = ClassicalRegister(n_qubits, 'c')\n",
    "circ = QuantumCircuit(qr, cr)\n",
    "p = 0.05\n",
    "\n",
    "for t in range(T):\n",
    "    for i in range(n_qubits // 2):\n",
    "        circ.append(random_clifford(2), [qr[2*i], qr[2*i+1]])\n",
    "    \n",
    "    for i in range(n_qubits):\n",
    "        if random.random() < p:\n",
    "            circ.measure(qr[i], cr[i])\n",
    "    \n",
    "    circ.save_state(pershot = True, label = \"t\"+str(2*t))\n",
    "\n",
    "    for j in range((n_qubits - 1) // 2):\n",
    "        circ.append(random_clifford(2), [qr[2*j+1], qr[2*j+2]])\n",
    "    \n",
    "    if n_qubits % 2 == 0:\n",
    "        circ.append(random_clifford(2), [qr[-1], qr[0]])\n",
    "    \n",
    "    for j in range(n_qubits):\n",
    "        if random.random() < p:\n",
    "            circ.measure(qr[j], cr[j])\n",
    "\n",
    "    circ.save_state(pershot = True, label = \"t\"+str(2*t+1))"
   ]
  },
  {
   "cell_type": "code",
   "execution_count": 33,
   "metadata": {},
   "outputs": [],
   "source": [
    "style = {\n",
    "    'displaytext': {\n",
    "        'clifford': r'\\mathbf{C}_2'\n",
    "    }\n",
    "}\n",
    "\n",
    "# circ.draw('mpl', style = style, plot_barriers = False)"
   ]
  },
  {
   "cell_type": "code",
   "execution_count": 34,
   "metadata": {},
   "outputs": [],
   "source": [
    "simulator = Aer.get_backend('aer_simulator_stabilizer')\n",
    "circ = transpile(circ, simulator)\n",
    "result = simulator.run(circ, shots = 10).result()"
   ]
  },
  {
   "cell_type": "code",
   "execution_count": 35,
   "metadata": {},
   "outputs": [],
   "source": [
    "stabs = result.data()['t7']"
   ]
  },
  {
   "cell_type": "code",
   "execution_count": 36,
   "metadata": {},
   "outputs": [],
   "source": [
    "def B(G):\n",
    "    rv = []\n",
    "    for i in range(n_qubits): # loop through rows\n",
    "        l = np.inf\n",
    "        r = -np.inf\n",
    "        for j in range(n_qubits): # loop through columns\n",
    "            if G[i, 2*j] == 1 or G[i, 2*j+1] == 1:\n",
    "                l = min(l, j)\n",
    "                r = max(r, j)\n",
    "        rv.append((l, r))\n",
    "    return np.array(rv)"
   ]
  },
  {
   "cell_type": "code",
   "execution_count": 37,
   "metadata": {},
   "outputs": [],
   "source": [
    "def clipped_gauge(stab_state):\n",
    "    cliff = stab_state.clifford\n",
    "    tableau = GF(cliff.stab.astype(int))[:, :-1]\n",
    "    # Convert from X|Z to xz...xz, and convert to standard order\n",
    "    stab = np.empty_like(tableau)\n",
    "    stab[:, 0::2] = tableau[:, n_qubits-1::-1]\n",
    "    stab[:, 1::2] = tableau[:, :n_qubits-1:-1]\n",
    "    # Pregauge transformation\n",
    "    stab = stab.row_reduce()\n",
    "    # Gauge transformation (TODO)\n",
    "    rev = stab[::-1, ::-1]\n",
    "    rowset = set()\n",
    "    for j in range(2 * n_qubits):\n",
    "        col = rev[:, j]\n",
    "        rows = np.nonzero(col)[0]\n",
    "        if len(rows) == 0:\n",
    "            continue\n",
    "        if len(rows) == 1:\n",
    "            rowset.add(rows[0])\n",
    "            continue\n",
    "        for i, row in enumerate(rows):\n",
    "            if row not in rowset:\n",
    "                rowset.add(row)\n",
    "                if i != len(rows) - 1:\n",
    "                    rev[rows[i+1:],:] += rev[row,:]\n",
    "    return rev[::-1, ::-1]"
   ]
  },
  {
   "cell_type": "code",
   "execution_count": 38,
   "metadata": {},
   "outputs": [],
   "source": [
    "def entropy(stab_state, A):\n",
    "    cliff = stab_state.clifford\n",
    "    tableau = GF(cliff.stab.astype(int))[:, :-1]\n",
    "    return np.linalg.matrix_rank(tableau[:A,:]) - A"
   ]
  },
  {
   "cell_type": "code",
   "execution_count": 39,
   "metadata": {},
   "outputs": [],
   "source": [
    "S = [entropy(stab_state, 6) for stab_state in stabs]"
   ]
  },
  {
   "cell_type": "code",
   "execution_count": 40,
   "metadata": {},
   "outputs": [
    {
     "data": {
      "text/plain": [
       "[0, 0, 0, 0, 0, 0, 0, 0, 0, 0]"
      ]
     },
     "execution_count": 40,
     "metadata": {},
     "output_type": "execute_result"
    }
   ],
   "source": [
    "S"
   ]
  },
  {
   "cell_type": "code",
   "execution_count": null,
   "metadata": {},
   "outputs": [],
   "source": []
  }
 ],
 "metadata": {
  "kernelspec": {
   "display_name": "qc",
   "language": "python",
   "name": "python3"
  },
  "language_info": {
   "codemirror_mode": {
    "name": "ipython",
    "version": 3
   },
   "file_extension": ".py",
   "mimetype": "text/x-python",
   "name": "python",
   "nbconvert_exporter": "python",
   "pygments_lexer": "ipython3",
   "version": "3.11.3"
  },
  "orig_nbformat": 4
 },
 "nbformat": 4,
 "nbformat_minor": 2
}
