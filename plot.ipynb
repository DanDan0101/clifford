{
 "cells": [
  {
   "cell_type": "code",
   "execution_count": null,
   "id": "3d72be68-2d1d-4648-8d12-0b4a123970c9",
   "metadata": {},
   "outputs": [],
   "source": [
    "import numpy as np\n",
    "import matplotlib.pyplot as plt\n",
    "import seaborn as sns\n",
    "from scipy.stats import norm"
   ]
  },
  {
   "cell_type": "markdown",
   "id": "53255662",
   "metadata": {},
   "source": [
    "## Time-evolved entropy\n",
    "Figure 2(a) from Li, Chen, and Fisher. Time dependence of bipartite entanglement entropy $S_A$ with $\\left|A\\right|=\\frac{L}{2}=256$ and $L=512$, in the random Clifford circuit averaged over 100 circuit realizations, starting from either a maximally entangled state or the zero state."
   ]
  },
  {
   "cell_type": "code",
   "execution_count": null,
   "id": "f9bef8ec",
   "metadata": {},
   "outputs": [],
   "source": [
    "n_qubits = 512\n",
    "depth = 1000\n",
    "shots = 100\n",
    "ps = np.array([0, 0.01, 0.02, 0.03, 0.04, 0.05, 0.06, 0.07, 0.08, 0.09, 0.10, 0.15, 0.20])\n",
    "\n",
    "entropies_zero = {}\n",
    "entropies_me = {}\n",
    "\n",
    "for p in ps:\n",
    "    stub = \"{}_{}_{}_{}_\".format(n_qubits, depth, shots, p)\n",
    "    entropies_zero[p] = np.load(stub + \"zero.npy\")\n",
    "    entropies_me[p] = np.load(stub + \"me.npy\")"
   ]
  },
  {
   "cell_type": "code",
   "execution_count": null,
   "id": "61712d77",
   "metadata": {},
   "outputs": [],
   "source": [
    "colors = sns.color_palette(\"husl\", len(ps))\n",
    "plt.subplots(figsize = (8, 6), layout = \"constrained\")\n",
    "t = np.arange(depth + 1)\n",
    "\n",
    "for i, p in enumerate(ps):\n",
    "    plt.plot(t, entropies_zero[p][0], label=\"p={:.2f}\".format(p), color=colors[i])\n",
    "    plt.fill_between(t, entropies_zero[p][0]-entropies_zero[p][1], entropies_zero[p][0]+entropies_zero[p][1], alpha=0.2, color=colors[i])\n",
    "    plt.plot(t, entropies_me[p][0], color=colors[i])\n",
    "    plt.fill_between(t, entropies_me[p][0]-entropies_me[p][1], entropies_me[p][0]+entropies_me[p][1], alpha=0.2, color=colors[i])\n",
    "\n",
    "plt.title(\"Entanglement Entropy Time Dependence\")\n",
    "plt.xlabel(r\"$t$\")\n",
    "plt.ylabel(r\"$S_A\\left(p;\\left|A\\right|=\\frac{L}{2},L=512\\right)$\")\n",
    "plt.legend(loc = \"upper right\")\n",
    "# plt.xlim(-25, 1050)\n",
    "# plt.ylim(-5, 270)\n",
    "plt.minorticks_on()"
   ]
  },
  {
   "cell_type": "markdown",
   "id": "98905f2c",
   "metadata": {},
   "source": [
    "## Entropy distribution\n",
    "Figure 2(b) from Li, Chen, and Fisher. Distribution function of $S_A$ with $\\left|A\\right|=\\frac{L}{2}=256$ and $L=512$, for 1000 different circuit realizations, and over time after saturation $t=256$. The solid lines are fits to a normal distribution."
   ]
  },
  {
   "cell_type": "code",
   "execution_count": null,
   "id": "2bcc14fc",
   "metadata": {},
   "outputs": [],
   "source": [
    "n_qubits = 512\n",
    "depth = 256\n",
    "shots = 1000\n",
    "\n",
    "entropies_hist = {}\n",
    "ps = [0.02 * i for i in range(1, 11)]\n",
    "\n",
    "for p in ps:\n",
    "    stub = \"{}_{}_{}_{}_\".format(n_qubits, depth, shots, p)\n",
    "    entropies_hist[p] = np.load(stub + \"hist.npy\")"
   ]
  },
  {
   "cell_type": "code",
   "execution_count": null,
   "id": "d2018d3f",
   "metadata": {},
   "outputs": [],
   "source": [
    "colors = sns.color_palette(\"tab10\")\n",
    "plt.subplots(figsize = (8, 6), layout = \"constrained\")\n",
    "x = np.arange(0, 250, 0.1)\n",
    "\n",
    "for i, p in enumerate(ps):\n",
    "    entropies = entropies_hist[p]\n",
    "    plt.hist(entropies, bins=20, color=colors[i], alpha=0.5, density = True)\n",
    "    plt.plot(x, norm.pdf(x, *norm.fit(entropies)), color=colors[i], label=\"p={}\".format(p))\n",
    "\n",
    "plt.title(\"Saturated Entanglement Entropy Distribution\")\n",
    "plt.xlabel(r\"$S_A$ ($p$;$\\left|A\\right|=L/2$, $L=512$)\")\n",
    "plt.ylabel(\"Normalized Frequency\")\n",
    "plt.legend(loc = \"right\")\n",
    "# plt.xlim(-5, 265)\n",
    "# plt.ylim(0, 0.345)\n",
    "plt.minorticks_on()\n",
    "plt.grid(linestyle = \":\")"
   ]
  },
  {
   "cell_type": "code",
   "execution_count": null,
   "id": "b50c08ee",
   "metadata": {},
   "outputs": [],
   "source": []
  }
 ],
 "metadata": {
  "kernelspec": {
   "display_name": "Python 3 (ipykernel)",
   "language": "python",
   "name": "python3"
  },
  "language_info": {
   "codemirror_mode": {
    "name": "ipython",
    "version": 3
   },
   "file_extension": ".py",
   "mimetype": "text/x-python",
   "name": "python",
   "nbconvert_exporter": "python",
   "pygments_lexer": "ipython3",
   "version": "3.10.4"
  }
 },
 "nbformat": 4,
 "nbformat_minor": 5
}
