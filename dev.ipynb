{
 "cells": [
  {
   "cell_type": "code",
   "execution_count": 1,
   "metadata": {},
   "outputs": [],
   "source": [
    "from clifford import make, draw, run\n",
    "from clifford import GF, entropy, clipped_gauge, B, counts_B, entropy_B\n",
    "import numpy as np\n",
    "from matplotlib import pyplot as plt\n",
    "from tqdm import tqdm"
   ]
  },
  {
   "cell_type": "code",
   "execution_count": 4,
   "metadata": {},
   "outputs": [],
   "source": [
    "n_qubits = 512\n",
    "T = 150\n",
    "p = 0.06\n",
    "shots = 1"
   ]
  },
  {
   "cell_type": "code",
   "execution_count": 7,
   "metadata": {},
   "outputs": [],
   "source": [
    "circ = make(n_qubits, 150, p, save_intermediate = True)\n",
    "# 20 sec with 512 - 150 - 0.06 - False\n",
    "# 30 sec with 512 - 150 - 0.06 - True\n",
    "\n",
    "# > 2 min with 512 - 1000 - 0.06 - False\n",
    "# not even gonna try 512 - 1000 - 0.06 - True"
   ]
  },
  {
   "cell_type": "code",
   "execution_count": 8,
   "metadata": {},
   "outputs": [],
   "source": [
    "result = run(circ, shots = 1)\n",
    "# 4:22 with 512 - 150 - 0.06 - False\n",
    "# > 18 min with 512 - 150 - 0.06 - True, memory expensive too"
   ]
  },
  {
   "cell_type": "code",
   "execution_count": 3,
   "metadata": {},
   "outputs": [
    {
     "name": "stdout",
     "output_type": "stream",
     "text": [
      "Generating and simulating circuits:\n"
     ]
    },
    {
     "name": "stderr",
     "output_type": "stream",
     "text": [
      "  0%|          | 0/1 [08:31<?, ?it/s]\n"
     ]
    },
    {
     "ename": "KeyboardInterrupt",
     "evalue": "",
     "output_type": "error",
     "traceback": [
      "\u001b[1;31m---------------------------------------------------------------------------\u001b[0m",
      "\u001b[1;31mKeyboardInterrupt\u001b[0m                         Traceback (most recent call last)",
      "Cell \u001b[1;32mIn[3], line 6\u001b[0m\n\u001b[0;32m      4\u001b[0m circ \u001b[39m=\u001b[39m make(n_qubits, T, p, save_intermediate \u001b[39m=\u001b[39m \u001b[39mFalse\u001b[39;00m)\n\u001b[0;32m      5\u001b[0m \u001b[39m# draw(circ)\u001b[39;00m\n\u001b[1;32m----> 6\u001b[0m result \u001b[39m=\u001b[39m run(circ, shots \u001b[39m=\u001b[39;49m \u001b[39m1\u001b[39;49m)\n\u001b[0;32m      7\u001b[0m \u001b[39m# states = []\u001b[39;00m\n\u001b[0;32m      8\u001b[0m \u001b[39m# for t in range(2*T):\u001b[39;00m\n\u001b[0;32m      9\u001b[0m \u001b[39m#     states.append(GF(result.data()['t'+str(t)][0].stab.astype(int)))\u001b[39;00m\n\u001b[0;32m     10\u001b[0m \u001b[39m# cliffords.append(states)\u001b[39;00m\n",
      "File \u001b[1;32mc:\\Users\\danie\\Documents\\GitHub\\clifford\\clifford.py:82\u001b[0m, in \u001b[0;36mrun\u001b[1;34m(circ, shots)\u001b[0m\n\u001b[0;32m     72\u001b[0m \u001b[39m\u001b[39m\u001b[39m\"\"\"Run a Clifford QuantumCircuit on the stabilizer simulator.\u001b[39;00m\n\u001b[0;32m     73\u001b[0m \u001b[39m\u001b[39;00m\n\u001b[0;32m     74\u001b[0m \u001b[39mArgs:\u001b[39;00m\n\u001b[1;32m   (...)\u001b[0m\n\u001b[0;32m     79\u001b[0m \u001b[39m    A Result object containing a list of stabilizer states.\u001b[39;00m\n\u001b[0;32m     80\u001b[0m \u001b[39m\"\"\"\u001b[39;00m\n\u001b[0;32m     81\u001b[0m simulator \u001b[39m=\u001b[39m Aer\u001b[39m.\u001b[39mget_backend(\u001b[39m'\u001b[39m\u001b[39maer_simulator_stabilizer\u001b[39m\u001b[39m'\u001b[39m)\n\u001b[1;32m---> 82\u001b[0m circ \u001b[39m=\u001b[39m transpile(circ, simulator)\n\u001b[0;32m     83\u001b[0m result \u001b[39m=\u001b[39m simulator\u001b[39m.\u001b[39mrun(circ, shots \u001b[39m=\u001b[39m shots)\u001b[39m.\u001b[39mresult()\n\u001b[0;32m     84\u001b[0m \u001b[39mreturn\u001b[39;00m result\n",
      "File \u001b[1;32mc:\\ProgramData\\Anaconda3\\envs\\qc\\Lib\\site-packages\\qiskit\\compiler\\transpiler.py:380\u001b[0m, in \u001b[0;36mtranspile\u001b[1;34m(circuits, backend, basis_gates, inst_map, coupling_map, backend_properties, initial_layout, layout_method, routing_method, translation_method, scheduling_method, instruction_durations, dt, approximation_degree, timing_constraints, seed_transpiler, optimization_level, callback, output_name, unitary_synthesis_method, unitary_synthesis_plugin_config, target, hls_config, init_method, optimization_method, ignore_backend_supplied_default_methods)\u001b[0m\n\u001b[0;32m    377\u001b[0m     \u001b[39mfor\u001b[39;00m circuit, unique_args \u001b[39min\u001b[39;00m \u001b[39mzip\u001b[39m(circuits, unique_transpile_args):\n\u001b[0;32m    378\u001b[0m         transpile_config, pass_manager \u001b[39m=\u001b[39m _combine_args(shared_args, unique_args)\n\u001b[0;32m    379\u001b[0m         output_circuits\u001b[39m.\u001b[39mappend(\n\u001b[1;32m--> 380\u001b[0m             _serial_transpile_circuit(\n\u001b[0;32m    381\u001b[0m                 circuit,\n\u001b[0;32m    382\u001b[0m                 pass_manager,\n\u001b[0;32m    383\u001b[0m                 transpile_config[\u001b[39m\"\u001b[39;49m\u001b[39mcallback\u001b[39;49m\u001b[39m\"\u001b[39;49m],\n\u001b[0;32m    384\u001b[0m                 transpile_config[\u001b[39m\"\u001b[39;49m\u001b[39moutput_name\u001b[39;49m\u001b[39m\"\u001b[39;49m],\n\u001b[0;32m    385\u001b[0m             )\n\u001b[0;32m    386\u001b[0m         )\n\u001b[0;32m    387\u001b[0m     circuits \u001b[39m=\u001b[39m output_circuits\n\u001b[0;32m    388\u001b[0m end_time \u001b[39m=\u001b[39m time()\n",
      "File \u001b[1;32mc:\\ProgramData\\Anaconda3\\envs\\qc\\Lib\\site-packages\\qiskit\\compiler\\transpiler.py:462\u001b[0m, in \u001b[0;36m_serial_transpile_circuit\u001b[1;34m(circuit, pass_manager, callback, output_name)\u001b[0m\n\u001b[0;32m    456\u001b[0m \u001b[39mdef\u001b[39;00m \u001b[39m_serial_transpile_circuit\u001b[39m(\n\u001b[0;32m    457\u001b[0m     circuit,\n\u001b[0;32m    458\u001b[0m     pass_manager,\n\u001b[0;32m    459\u001b[0m     callback,\n\u001b[0;32m    460\u001b[0m     output_name,\n\u001b[0;32m    461\u001b[0m ):\n\u001b[1;32m--> 462\u001b[0m     result \u001b[39m=\u001b[39m pass_manager\u001b[39m.\u001b[39;49mrun(circuit, callback\u001b[39m=\u001b[39;49mcallback, output_name\u001b[39m=\u001b[39;49moutput_name)\n\u001b[0;32m    463\u001b[0m     \u001b[39mreturn\u001b[39;00m result\n",
      "File \u001b[1;32mc:\\ProgramData\\Anaconda3\\envs\\qc\\Lib\\site-packages\\qiskit\\transpiler\\passmanager.py:537\u001b[0m, in \u001b[0;36mStagedPassManager.run\u001b[1;34m(self, circuits, output_name, callback)\u001b[0m\n\u001b[0;32m    530\u001b[0m \u001b[39mdef\u001b[39;00m \u001b[39mrun\u001b[39m(\n\u001b[0;32m    531\u001b[0m     \u001b[39mself\u001b[39m,\n\u001b[0;32m    532\u001b[0m     circuits: _CircuitsT,\n\u001b[0;32m    533\u001b[0m     output_name: Optional[\u001b[39mstr\u001b[39m] \u001b[39m=\u001b[39m \u001b[39mNone\u001b[39;00m,\n\u001b[0;32m    534\u001b[0m     callback: Optional[Callable] \u001b[39m=\u001b[39m \u001b[39mNone\u001b[39;00m,\n\u001b[0;32m    535\u001b[0m ) \u001b[39m-\u001b[39m\u001b[39m>\u001b[39m _CircuitsT:\n\u001b[0;32m    536\u001b[0m     \u001b[39mself\u001b[39m\u001b[39m.\u001b[39m_update_passmanager()\n\u001b[1;32m--> 537\u001b[0m     \u001b[39mreturn\u001b[39;00m \u001b[39msuper\u001b[39;49m()\u001b[39m.\u001b[39;49mrun(circuits, output_name, callback)\n",
      "File \u001b[1;32mc:\\ProgramData\\Anaconda3\\envs\\qc\\Lib\\site-packages\\qiskit\\transpiler\\passmanager.py:231\u001b[0m, in \u001b[0;36mPassManager.run\u001b[1;34m(self, circuits, output_name, callback)\u001b[0m\n\u001b[0;32m    229\u001b[0m     \u001b[39mreturn\u001b[39;00m circuits\n\u001b[0;32m    230\u001b[0m \u001b[39mif\u001b[39;00m \u001b[39misinstance\u001b[39m(circuits, QuantumCircuit):\n\u001b[1;32m--> 231\u001b[0m     \u001b[39mreturn\u001b[39;00m \u001b[39mself\u001b[39;49m\u001b[39m.\u001b[39;49m_run_single_circuit(circuits, output_name, callback)\n\u001b[0;32m    232\u001b[0m \u001b[39mif\u001b[39;00m \u001b[39mlen\u001b[39m(circuits) \u001b[39m==\u001b[39m \u001b[39m1\u001b[39m:\n\u001b[0;32m    233\u001b[0m     \u001b[39mreturn\u001b[39;00m [\u001b[39mself\u001b[39m\u001b[39m.\u001b[39m_run_single_circuit(circuits[\u001b[39m0\u001b[39m], output_name, callback)]\n",
      "File \u001b[1;32mc:\\ProgramData\\Anaconda3\\envs\\qc\\Lib\\site-packages\\qiskit\\transpiler\\passmanager.py:292\u001b[0m, in \u001b[0;36mPassManager._run_single_circuit\u001b[1;34m(self, circuit, output_name, callback)\u001b[0m\n\u001b[0;32m    280\u001b[0m \u001b[39m\u001b[39m\u001b[39m\"\"\"Run all the passes on a ``circuit``.\u001b[39;00m\n\u001b[0;32m    281\u001b[0m \n\u001b[0;32m    282\u001b[0m \u001b[39mArgs:\u001b[39;00m\n\u001b[1;32m   (...)\u001b[0m\n\u001b[0;32m    289\u001b[0m \u001b[39m    The transformed circuit.\u001b[39;00m\n\u001b[0;32m    290\u001b[0m \u001b[39m\"\"\"\u001b[39;00m\n\u001b[0;32m    291\u001b[0m running_passmanager \u001b[39m=\u001b[39m \u001b[39mself\u001b[39m\u001b[39m.\u001b[39m_create_running_passmanager()\n\u001b[1;32m--> 292\u001b[0m result \u001b[39m=\u001b[39m running_passmanager\u001b[39m.\u001b[39;49mrun(circuit, output_name\u001b[39m=\u001b[39;49moutput_name, callback\u001b[39m=\u001b[39;49mcallback)\n\u001b[0;32m    293\u001b[0m \u001b[39mself\u001b[39m\u001b[39m.\u001b[39mproperty_set \u001b[39m=\u001b[39m running_passmanager\u001b[39m.\u001b[39mproperty_set\n\u001b[0;32m    294\u001b[0m \u001b[39mreturn\u001b[39;00m result\n",
      "File \u001b[1;32mc:\\ProgramData\\Anaconda3\\envs\\qc\\Lib\\site-packages\\qiskit\\transpiler\\runningpassmanager.py:125\u001b[0m, in \u001b[0;36mRunningPassManager.run\u001b[1;34m(***failed resolving arguments***)\u001b[0m\n\u001b[0;32m    123\u001b[0m \u001b[39mfor\u001b[39;00m passset \u001b[39min\u001b[39;00m \u001b[39mself\u001b[39m\u001b[39m.\u001b[39mworking_list:\n\u001b[0;32m    124\u001b[0m     \u001b[39mfor\u001b[39;00m pass_ \u001b[39min\u001b[39;00m passset:\n\u001b[1;32m--> 125\u001b[0m         dag \u001b[39m=\u001b[39m \u001b[39mself\u001b[39;49m\u001b[39m.\u001b[39;49m_do_pass(pass_, dag, passset\u001b[39m.\u001b[39;49moptions)\n\u001b[0;32m    127\u001b[0m circuit \u001b[39m=\u001b[39m dag_to_circuit(dag, copy_operations\u001b[39m=\u001b[39m\u001b[39mFalse\u001b[39;00m)\n\u001b[0;32m    128\u001b[0m \u001b[39mif\u001b[39;00m output_name:\n",
      "File \u001b[1;32mc:\\ProgramData\\Anaconda3\\envs\\qc\\Lib\\site-packages\\qiskit\\transpiler\\runningpassmanager.py:173\u001b[0m, in \u001b[0;36mRunningPassManager._do_pass\u001b[1;34m(self, pass_, dag, options)\u001b[0m\n\u001b[0;32m    171\u001b[0m \u001b[39m# Run the pass itself, if not already run\u001b[39;00m\n\u001b[0;32m    172\u001b[0m \u001b[39mif\u001b[39;00m pass_ \u001b[39mnot\u001b[39;00m \u001b[39min\u001b[39;00m \u001b[39mself\u001b[39m\u001b[39m.\u001b[39mvalid_passes:\n\u001b[1;32m--> 173\u001b[0m     dag \u001b[39m=\u001b[39m \u001b[39mself\u001b[39;49m\u001b[39m.\u001b[39;49m_run_this_pass(pass_, dag)\n\u001b[0;32m    175\u001b[0m     \u001b[39m# update the valid_passes property\u001b[39;00m\n\u001b[0;32m    176\u001b[0m     \u001b[39mself\u001b[39m\u001b[39m.\u001b[39m_update_valid_passes(pass_)\n",
      "File \u001b[1;32mc:\\ProgramData\\Anaconda3\\envs\\qc\\Lib\\site-packages\\qiskit\\transpiler\\runningpassmanager.py:202\u001b[0m, in \u001b[0;36mRunningPassManager._run_this_pass\u001b[1;34m(self, pass_, dag)\u001b[0m\n\u001b[0;32m    199\u001b[0m \u001b[39mif\u001b[39;00m pass_\u001b[39m.\u001b[39mis_transformation_pass:\n\u001b[0;32m    200\u001b[0m     \u001b[39m# Measure time if we have a callback or logging set\u001b[39;00m\n\u001b[0;32m    201\u001b[0m     start_time \u001b[39m=\u001b[39m time()\n\u001b[1;32m--> 202\u001b[0m     new_dag \u001b[39m=\u001b[39m pass_\u001b[39m.\u001b[39;49mrun(dag)\n\u001b[0;32m    203\u001b[0m     end_time \u001b[39m=\u001b[39m time()\n\u001b[0;32m    204\u001b[0m     run_time \u001b[39m=\u001b[39m end_time \u001b[39m-\u001b[39m start_time\n",
      "File \u001b[1;32mc:\\ProgramData\\Anaconda3\\envs\\qc\\Lib\\site-packages\\qiskit\\transpiler\\passes\\synthesis\\high_level_synthesis.py:192\u001b[0m, in \u001b[0;36mHighLevelSynthesis.run\u001b[1;34m(self, dag)\u001b[0m\n\u001b[0;32m    188\u001b[0m     plugin_method \u001b[39m=\u001b[39m plugin_specifier\n\u001b[0;32m    190\u001b[0m \u001b[39m# ToDo: similarly to UnitarySynthesis, we should pass additional parameters\u001b[39;00m\n\u001b[0;32m    191\u001b[0m \u001b[39m#       e.g. coupling_map to the synthesis algorithm.\u001b[39;00m\n\u001b[1;32m--> 192\u001b[0m decomposition \u001b[39m=\u001b[39m plugin_method\u001b[39m.\u001b[39;49mrun(node\u001b[39m.\u001b[39;49mop, \u001b[39m*\u001b[39;49m\u001b[39m*\u001b[39;49mplugin_args)\n\u001b[0;32m    194\u001b[0m \u001b[39m# The synthesis methods that are not suited for the given higher-level-object\u001b[39;00m\n\u001b[0;32m    195\u001b[0m \u001b[39m# will return None, in which case the next method in the list will be used.\u001b[39;00m\n\u001b[0;32m    196\u001b[0m \u001b[39mif\u001b[39;00m decomposition \u001b[39mis\u001b[39;00m \u001b[39mnot\u001b[39;00m \u001b[39mNone\u001b[39;00m:\n",
      "File \u001b[1;32mc:\\ProgramData\\Anaconda3\\envs\\qc\\Lib\\site-packages\\qiskit\\transpiler\\passes\\synthesis\\high_level_synthesis.py:216\u001b[0m, in \u001b[0;36mDefaultSynthesisClifford.run\u001b[1;34m(self, high_level_object, **options)\u001b[0m\n\u001b[0;32m    214\u001b[0m \u001b[39mdef\u001b[39;00m \u001b[39mrun\u001b[39m(\u001b[39mself\u001b[39m, high_level_object, \u001b[39m*\u001b[39m\u001b[39m*\u001b[39moptions):\n\u001b[0;32m    215\u001b[0m \u001b[39m    \u001b[39m\u001b[39m\"\"\"Run synthesis for the given Clifford.\"\"\"\u001b[39;00m\n\u001b[1;32m--> 216\u001b[0m     decomposition \u001b[39m=\u001b[39m synth_clifford_full(high_level_object)\n\u001b[0;32m    217\u001b[0m     \u001b[39mreturn\u001b[39;00m decomposition\n",
      "File \u001b[1;32mc:\\ProgramData\\Anaconda3\\envs\\qc\\Lib\\site-packages\\qiskit\\synthesis\\clifford\\clifford_decompose_full.py:59\u001b[0m, in \u001b[0;36msynth_clifford_full\u001b[1;34m(clifford, method)\u001b[0m\n\u001b[0;32m     56\u001b[0m     \u001b[39mreturn\u001b[39;00m synth_clifford_greedy(clifford)\n\u001b[0;32m     58\u001b[0m \u001b[39mif\u001b[39;00m num_qubits \u001b[39m<\u001b[39m\u001b[39m=\u001b[39m \u001b[39m3\u001b[39m:\n\u001b[1;32m---> 59\u001b[0m     \u001b[39mreturn\u001b[39;00m synth_clifford_bm(clifford)\n\u001b[0;32m     61\u001b[0m \u001b[39mreturn\u001b[39;00m synth_clifford_greedy(clifford)\n",
      "File \u001b[1;32mc:\\ProgramData\\Anaconda3\\envs\\qc\\Lib\\site-packages\\qiskit\\synthesis\\clifford\\clifford_decompose_bm.py:70\u001b[0m, in \u001b[0;36msynth_clifford_bm\u001b[1;34m(clifford)\u001b[0m\n\u001b[0;32m     68\u001b[0m \u001b[39m# Find composition of circuits with CX and (H.S)^a gates to reduce CNOT count\u001b[39;00m\n\u001b[0;32m     69\u001b[0m \u001b[39mwhile\u001b[39;00m cost \u001b[39m>\u001b[39m \u001b[39m0\u001b[39m:\n\u001b[1;32m---> 70\u001b[0m     clifford, inv_circuit, cost \u001b[39m=\u001b[39m _reduce_cost(clifford, inv_circuit, cost)\n\u001b[0;32m     72\u001b[0m \u001b[39m# Decompose the remaining product of 1-qubit cliffords\u001b[39;00m\n\u001b[0;32m     73\u001b[0m ret_circ \u001b[39m=\u001b[39m QuantumCircuit(num_qubits, name\u001b[39m=\u001b[39mclifford_name)\n",
      "File \u001b[1;32mc:\\ProgramData\\Anaconda3\\envs\\qc\\Lib\\site-packages\\qiskit\\synthesis\\clifford\\clifford_decompose_bm.py:160\u001b[0m, in \u001b[0;36m_reduce_cost\u001b[1;34m(clifford, inv_circuit, cost)\u001b[0m\n\u001b[0;32m    156\u001b[0m \u001b[39mfor\u001b[39;00m qubit1 \u001b[39min\u001b[39;00m \u001b[39mrange\u001b[39m(qubit0 \u001b[39m+\u001b[39m \u001b[39m1\u001b[39m, num_qubits):\n\u001b[0;32m    157\u001b[0m     \u001b[39mfor\u001b[39;00m n0, n1 \u001b[39min\u001b[39;00m product(\u001b[39mrange\u001b[39m(\u001b[39m3\u001b[39m), repeat\u001b[39m=\u001b[39m\u001b[39m2\u001b[39m):\n\u001b[0;32m    158\u001b[0m \n\u001b[0;32m    159\u001b[0m         \u001b[39m# Apply a 2-qubit block\u001b[39;00m\n\u001b[1;32m--> 160\u001b[0m         reduced \u001b[39m=\u001b[39m clifford\u001b[39m.\u001b[39;49mcopy()\n\u001b[0;32m    161\u001b[0m         \u001b[39mfor\u001b[39;00m qubit, n \u001b[39min\u001b[39;00m [(qubit0, n0), (qubit1, n1)]:\n\u001b[0;32m    162\u001b[0m             \u001b[39mif\u001b[39;00m n \u001b[39m==\u001b[39m \u001b[39m1\u001b[39m:\n",
      "File \u001b[1;32mc:\\ProgramData\\Anaconda3\\envs\\qc\\Lib\\site-packages\\qiskit\\quantum_info\\operators\\symplectic\\clifford.py:210\u001b[0m, in \u001b[0;36mClifford.copy\u001b[1;34m(self)\u001b[0m\n\u001b[0;32m    209\u001b[0m \u001b[39mdef\u001b[39;00m \u001b[39mcopy\u001b[39m(\u001b[39mself\u001b[39m):\n\u001b[1;32m--> 210\u001b[0m     \u001b[39mreturn\u001b[39;00m \u001b[39mtype\u001b[39;49m(\u001b[39mself\u001b[39;49m)(\u001b[39mself\u001b[39;49m, validate\u001b[39m=\u001b[39;49m\u001b[39mFalse\u001b[39;49;00m, copy\u001b[39m=\u001b[39;49m\u001b[39mTrue\u001b[39;49;00m)\n",
      "File \u001b[1;32mc:\\ProgramData\\Anaconda3\\envs\\qc\\Lib\\site-packages\\qiskit\\quantum_info\\operators\\symplectic\\clifford.py:133\u001b[0m, in \u001b[0;36mClifford.__init__\u001b[1;34m(self, data, validate, copy)\u001b[0m\n\u001b[0;32m    131\u001b[0m \u001b[39mif\u001b[39;00m \u001b[39misinstance\u001b[39m(data, Clifford):\n\u001b[0;32m    132\u001b[0m     num_qubits \u001b[39m=\u001b[39m data\u001b[39m.\u001b[39mnum_qubits\n\u001b[1;32m--> 133\u001b[0m     \u001b[39mself\u001b[39m\u001b[39m.\u001b[39mtableau \u001b[39m=\u001b[39m data\u001b[39m.\u001b[39mtableau\u001b[39m.\u001b[39mcopy() \u001b[39mif\u001b[39;00m copy \u001b[39melse\u001b[39;00m data\u001b[39m.\u001b[39mtableau\n\u001b[0;32m    135\u001b[0m \u001b[39m# Initialize from ScalarOp as N-qubit identity discarding any global phase\u001b[39;00m\n\u001b[0;32m    136\u001b[0m \u001b[39melif\u001b[39;00m \u001b[39misinstance\u001b[39m(data, ScalarOp):\n",
      "\u001b[1;31mKeyboardInterrupt\u001b[0m: "
     ]
    }
   ],
   "source": [
    "cliffords = []\n",
    "print(\"Generating and simulating circuits:\")\n",
    "for _ in tqdm(range(shots)):\n",
    "    circ = make(n_qubits, T, p, save_intermediate = False)\n",
    "    # draw(circ)\n",
    "    result = run(circ, shots = 1)\n",
    "    # states = []\n",
    "    # for t in range(2*T):\n",
    "    #     states.append(GF(result.data()['t'+str(t)][0].stab.astype(int)))\n",
    "    # cliffords.append(states)"
   ]
  },
  {
   "cell_type": "code",
   "execution_count": null,
   "metadata": {},
   "outputs": [
    {
     "name": "stdout",
     "output_type": "stream",
     "text": [
      "Calculating entropies:\n"
     ]
    },
    {
     "name": "stderr",
     "output_type": "stream",
     "text": [
      "100%|██████████| 2/2 [00:00<00:00, 68.96it/s]\n"
     ]
    }
   ],
   "source": [
    "print(\"Calculating entropies:\")\n",
    "S = [[entropy(cliff, n_qubits // 2) for cliff in states] for states in tqdm(cliffords)] # S[shot][t]\n",
    "\n",
    "# np.savetxt(\"S_{}_{}_{}_{}.out\".format(n_qubits, T, p, shots), S)"
   ]
  }
 ],
 "metadata": {
  "kernelspec": {
   "display_name": "qc",
   "language": "python",
   "name": "python3"
  },
  "language_info": {
   "codemirror_mode": {
    "name": "ipython",
    "version": 3
   },
   "file_extension": ".py",
   "mimetype": "text/x-python",
   "name": "python",
   "nbconvert_exporter": "python",
   "pygments_lexer": "ipython3",
   "version": "3.11.3"
  },
  "orig_nbformat": 4
 },
 "nbformat": 4,
 "nbformat_minor": 2
}
